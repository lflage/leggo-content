{
 "cells": [
  {
   "cell_type": "code",
   "execution_count": 1,
   "metadata": {},
   "outputs": [],
   "source": [
    "import pandas as pd\n",
    "import os\n",
    "from sklearn.feature_extraction.text import CountVectorizer\n",
    "from sklearn.svm import SVC\n",
    "from sklearn.model_selection import train_test_split\n",
    "from sklearn.metrics import confusion_matrix\n",
    "import numpy as np"
   ]
  },
  {
   "cell_type": "markdown",
   "metadata": {},
   "source": [
    "# Processamento dos dados de entrada"
   ]
  },
  {
   "cell_type": "code",
   "execution_count": 3,
   "metadata": {},
   "outputs": [],
   "source": [
    "# Processamento dos Dados\n",
    "path = \"./dados/tagFiles\"\n",
    "\n",
    "\n",
    "tagList = [\"I-\",\"E-\",\"B-\"]\n",
    "files = []\n",
    "for dirpath, dirnames, filenames in os.walk(path):\n",
    "    for filename in filenames:\n",
    "        files.append(os.path.normpath(os.path.join(dirpath,filename)))\n",
    "\n",
    "emendas = pd.DataFrame(columns = ['text','emdType'])\n",
    "tupEmd = []\n",
    "\n",
    "\n",
    "for file in files:\n",
    "    with open(file, encoding = \"utf-8\") as f:\n",
    "        emdTxt = []\n",
    "        previousType = None\n",
    "        for line in f.readlines():\n",
    "            token,emdType = line.split()\n",
    "            if any(x in emdType for x in tagList):\n",
    "                emdType = emdType[2:]\n",
    "            if previousType != emdType and previousType != None:\n",
    "                tupEmd.append([\" \".join(emdTxt), previousType])\n",
    "                emdTxt = []\n",
    "                \n",
    "            emdTxt.append(token)\n",
    "            previousType = emdType\n",
    "        tupEmd.append([\" \".join(emdTxt), emdType])\n",
    "\n",
    "\n",
    "for index in range(len(tupEmd)):\n",
    "    emendas.loc[index,'text'] = tupEmd[index][0]\n",
    "    emendas.loc[index,'emdType'] = tupEmd[index][1]"
   ]
  },
  {
   "cell_type": "markdown",
   "metadata": {},
   "source": [
    "# Classificador de Emendas ADD"
   ]
  },
  {
   "cell_type": "code",
   "execution_count": 4,
   "metadata": {},
   "outputs": [],
   "source": [
    "emdAddColumn = emendas['emdType'].where(emendas['emdType'] == 'ADD', \"N\")"
   ]
  },
  {
   "cell_type": "code",
   "execution_count": 21,
   "metadata": {},
   "outputs": [
    {
     "data": {
      "text/html": [
       "<div>\n",
       "<style scoped>\n",
       "    .dataframe tbody tr th:only-of-type {\n",
       "        vertical-align: middle;\n",
       "    }\n",
       "\n",
       "    .dataframe tbody tr th {\n",
       "        vertical-align: top;\n",
       "    }\n",
       "\n",
       "    .dataframe thead th {\n",
       "        text-align: right;\n",
       "    }\n",
       "</style>\n",
       "<table border=\"1\" class=\"dataframe\">\n",
       "  <thead>\n",
       "    <tr style=\"text-align: right;\">\n",
       "      <th></th>\n",
       "      <th>text</th>\n",
       "      <th>emdType</th>\n",
       "    </tr>\n",
       "  </thead>\n",
       "  <tbody>\n",
       "    <tr>\n",
       "      <th>0</th>\n",
       "      <td>MPV 870 00001 COMISSÃO MISTA DA MEDIDA PROVISÓ...</td>\n",
       "      <td>N</td>\n",
       "    </tr>\n",
       "    <tr>\n",
       "      <th>1</th>\n",
       "      <td>Suprime o inciso XIV e o §2º do art . 21 da Me...</td>\n",
       "      <td>N</td>\n",
       "    </tr>\n",
       "    <tr>\n",
       "      <th>2</th>\n",
       "      <td>MPV 870 00002 COMISSÃO MISTA DA MEDIDA PROVISÓ...</td>\n",
       "      <td>N</td>\n",
       "    </tr>\n",
       "    <tr>\n",
       "      <th>3</th>\n",
       "      <td>Suprime o inciso II , do art . 5o , da Medida ...</td>\n",
       "      <td>N</td>\n",
       "    </tr>\n",
       "    <tr>\n",
       "      <th>4</th>\n",
       "      <td>MPV 870 00003 COMISSÃO MISTA DA MEDIDA PROVISÓ...</td>\n",
       "      <td>N</td>\n",
       "    </tr>\n",
       "    <tr>\n",
       "      <th>5</th>\n",
       "      <td>Altera a gestão do Serviço Florestal Brasileir...</td>\n",
       "      <td>ADD</td>\n",
       "    </tr>\n",
       "    <tr>\n",
       "      <th>6</th>\n",
       "      <td>MPV 870 00004 COMISSÃO MISTA DA MEDIDA PROVISÓ...</td>\n",
       "      <td>N</td>\n",
       "    </tr>\n",
       "    <tr>\n",
       "      <th>7</th>\n",
       "      <td>Art . 1º . Os arts . 19 e 57 , II , da Medida ...</td>\n",
       "      <td>N</td>\n",
       "    </tr>\n",
       "    <tr>\n",
       "      <th>8</th>\n",
       "      <td>MPV 870 00005 CMARA DOS DEPUTADOS DEPUTADO FED...</td>\n",
       "      <td>N</td>\n",
       "    </tr>\n",
       "    <tr>\n",
       "      <th>9</th>\n",
       "      <td>passam a vigorar CD/19979.34213-60 com as segu...</td>\n",
       "      <td>N</td>\n",
       "    </tr>\n",
       "  </tbody>\n",
       "</table>\n",
       "</div>"
      ],
      "text/plain": [
       "                                                text emdType\n",
       "0  MPV 870 00001 COMISSÃO MISTA DA MEDIDA PROVISÓ...       N\n",
       "1  Suprime o inciso XIV e o §2º do art . 21 da Me...       N\n",
       "2  MPV 870 00002 COMISSÃO MISTA DA MEDIDA PROVISÓ...       N\n",
       "3  Suprime o inciso II , do art . 5o , da Medida ...       N\n",
       "4  MPV 870 00003 COMISSÃO MISTA DA MEDIDA PROVISÓ...       N\n",
       "5  Altera a gestão do Serviço Florestal Brasileir...     ADD\n",
       "6  MPV 870 00004 COMISSÃO MISTA DA MEDIDA PROVISÓ...       N\n",
       "7  Art . 1º . Os arts . 19 e 57 , II , da Medida ...       N\n",
       "8  MPV 870 00005 CMARA DOS DEPUTADOS DEPUTADO FED...       N\n",
       "9  passam a vigorar CD/19979.34213-60 com as segu...       N"
      ]
     },
     "execution_count": 21,
     "metadata": {},
     "output_type": "execute_result"
    }
   ],
   "source": [
    "emendasADD = emendas.copy()\n",
    "emendasADD = emendasADD.drop('emdType',axis = 1)\n",
    "emendasADD['emdType'] = emdAddColumn\n",
    "\n",
    "emendasADD.head(10)"
   ]
  },
  {
   "cell_type": "code",
   "execution_count": 38,
   "metadata": {},
   "outputs": [
    {
     "name": "stdout",
     "output_type": "stream",
     "text": [
      "0.9029850746268657\n",
      "[[  0   0]\n",
      " [ 26 242]]\n"
     ]
    }
   ],
   "source": [
    "vectorizer = CountVectorizer()\n",
    "X = vectorizer.fit_transform(emendasADD['text'])\n",
    "y = emendasADD['emdType']\n",
    "\n",
    "X_train, X_test, y_train, y_test = train_test_split(\n",
    "    X, y, test_size=0.66, random_state=42)\n",
    "\n",
    "\n",
    "\n",
    "clf = SVC(gamma = 'auto')\n",
    "clf.fit(X_train,y_train)\n",
    "\n",
    "print(clf.score(X_test,y_test))\n",
    "\n",
    "y_pred = clf.predict(X_test)\n",
    "\n",
    "print(confusion_matrix(y_pred,y_test, labels = ['ADD','N']))"
   ]
  },
  {
   "cell_type": "markdown",
   "metadata": {},
   "source": [
    "# Classificador Global"
   ]
  },
  {
   "cell_type": "code",
   "execution_count": 5,
   "metadata": {},
   "outputs": [],
   "source": [
    "vectorizer = CountVectorizer()\n",
    "X = vectorizer.fit_transform(emendas['text'])\n",
    "y = emendas['emdType']"
   ]
  },
  {
   "cell_type": "markdown",
   "metadata": {},
   "source": [
    "## Separação das Bases"
   ]
  },
  {
   "cell_type": "code",
   "execution_count": 6,
   "metadata": {},
   "outputs": [],
   "source": [
    "X_train, X_test, y_train, y_test = train_test_split(\n",
    "    X, y, test_size=0.33, random_state=42)"
   ]
  },
  {
   "cell_type": "markdown",
   "metadata": {},
   "source": [
    "## Oversampling"
   ]
  },
  {
   "cell_type": "code",
   "execution_count": 7,
   "metadata": {},
   "outputs": [],
   "source": [
    "from imblearn.over_sampling import RandomOverSampler\n",
    "\n",
    "ros = RandomOverSampler(random_state=0)\n",
    "X_resampled, y_resampled = ros.fit_resample(X, y)"
   ]
  },
  {
   "cell_type": "markdown",
   "metadata": {},
   "source": [
    "## Criação do Modelo"
   ]
  },
  {
   "cell_type": "code",
   "execution_count": 8,
   "metadata": {
    "scrolled": true
   },
   "outputs": [
    {
     "name": "stdout",
     "output_type": "stream",
     "text": [
      "0.8283582089552238\n"
     ]
    }
   ],
   "source": [
    "clf = SVC(gamma = 'auto')\n",
    "clf.fit(X_resampled,y_resampled)\n",
    "\n",
    "print(clf.score(X_test,y_test))\n",
    "\n"
   ]
  },
  {
   "cell_type": "markdown",
   "metadata": {},
   "source": [
    "## Predição e Matriz de Confusão"
   ]
  },
  {
   "cell_type": "code",
   "execution_count": 20,
   "metadata": {},
   "outputs": [
    {
     "name": "stdout",
     "output_type": "stream",
     "text": [
      "[[ 7  4  0  0]\n",
      " [ 1 23  0  0]\n",
      " [ 7 10 12  0]\n",
      " [ 0  0  1 69]]\n"
     ]
    }
   ],
   "source": [
    "y_pred = clf.predict(X_test)\n",
    "\n",
    "cm = confusion_matrix(y_pred,y_test, labels = ['ADD','MOD','SUP','O'])\n",
    "print(cm)"
   ]
  },
  {
   "cell_type": "markdown",
   "metadata": {},
   "source": [
    "## Acurácia das Classes"
   ]
  },
  {
   "cell_type": "code",
   "execution_count": 44,
   "metadata": {},
   "outputs": [
    {
     "name": "stdout",
     "output_type": "stream",
     "text": [
      "[0.63636364 0.95833333 0.4137931  0.98571429]\n"
     ]
    }
   ],
   "source": [
    "cmAcc = cm.astype('float') / cm.sum(axis=1)[:, np.newaxis]\n",
    "\n",
    "print(cmAcc.diagonal())"
   ]
  },
  {
   "cell_type": "code",
   "execution_count": 45,
   "metadata": {},
   "outputs": [],
   "source": [
    "cmDf = pd.DataFrame(cm,columns = ['ADD','MOD','SUP','O'])\n",
    "cmDf['types'] = ['ADD','MOD','SUP','O']"
   ]
  },
  {
   "cell_type": "code",
   "execution_count": 46,
   "metadata": {},
   "outputs": [
    {
     "name": "stdout",
     "output_type": "stream",
     "text": [
      "['types', 'ADD', 'MOD', 'SUP', 'O']\n"
     ]
    }
   ],
   "source": [
    "cols = cmDf.columns.tolist()\n",
    "cols.insert(0,cols.pop(4))\n",
    "print(cols)\n",
    "cmDf = cmDf[cols]\n",
    "cmDf['Accuracy'] = cmAcc.diagonal()"
   ]
  },
  {
   "cell_type": "code",
   "execution_count": 47,
   "metadata": {},
   "outputs": [
    {
     "data": {
      "text/html": [
       "<div>\n",
       "<style scoped>\n",
       "    .dataframe tbody tr th:only-of-type {\n",
       "        vertical-align: middle;\n",
       "    }\n",
       "\n",
       "    .dataframe tbody tr th {\n",
       "        vertical-align: top;\n",
       "    }\n",
       "\n",
       "    .dataframe thead th {\n",
       "        text-align: right;\n",
       "    }\n",
       "</style>\n",
       "<table border=\"1\" class=\"dataframe\">\n",
       "  <thead>\n",
       "    <tr style=\"text-align: right;\">\n",
       "      <th></th>\n",
       "      <th>types</th>\n",
       "      <th>ADD</th>\n",
       "      <th>MOD</th>\n",
       "      <th>SUP</th>\n",
       "      <th>O</th>\n",
       "      <th>Accuracy</th>\n",
       "    </tr>\n",
       "  </thead>\n",
       "  <tbody>\n",
       "    <tr>\n",
       "      <th>0</th>\n",
       "      <td>ADD</td>\n",
       "      <td>7</td>\n",
       "      <td>4</td>\n",
       "      <td>0</td>\n",
       "      <td>0</td>\n",
       "      <td>0.636364</td>\n",
       "    </tr>\n",
       "    <tr>\n",
       "      <th>1</th>\n",
       "      <td>MOD</td>\n",
       "      <td>1</td>\n",
       "      <td>23</td>\n",
       "      <td>0</td>\n",
       "      <td>0</td>\n",
       "      <td>0.958333</td>\n",
       "    </tr>\n",
       "    <tr>\n",
       "      <th>2</th>\n",
       "      <td>SUP</td>\n",
       "      <td>7</td>\n",
       "      <td>10</td>\n",
       "      <td>12</td>\n",
       "      <td>0</td>\n",
       "      <td>0.413793</td>\n",
       "    </tr>\n",
       "    <tr>\n",
       "      <th>3</th>\n",
       "      <td>O</td>\n",
       "      <td>0</td>\n",
       "      <td>0</td>\n",
       "      <td>1</td>\n",
       "      <td>69</td>\n",
       "      <td>0.985714</td>\n",
       "    </tr>\n",
       "  </tbody>\n",
       "</table>\n",
       "</div>"
      ],
      "text/plain": [
       "  types  ADD  MOD  SUP   O  Accuracy\n",
       "0   ADD    7    4    0   0  0.636364\n",
       "1   MOD    1   23    0   0  0.958333\n",
       "2   SUP    7   10   12   0  0.413793\n",
       "3     O    0    0    1  69  0.985714"
      ]
     },
     "execution_count": 47,
     "metadata": {},
     "output_type": "execute_result"
    }
   ],
   "source": [
    "cmDf.head()"
   ]
  },
  {
   "cell_type": "markdown",
   "metadata": {},
   "source": [
    "## Output resultados"
   ]
  },
  {
   "cell_type": "code",
   "execution_count": 48,
   "metadata": {},
   "outputs": [],
   "source": [
    "cmDf.to_csv('./outputs/emdendasPredResultados.csv')"
   ]
  },
  {
   "cell_type": "markdown",
   "metadata": {},
   "source": [
    "# Output de Emendas"
   ]
  },
  {
   "cell_type": "code",
   "execution_count": 24,
   "metadata": {},
   "outputs": [
    {
     "data": {
      "text/html": [
       "<div>\n",
       "<style scoped>\n",
       "    .dataframe tbody tr th:only-of-type {\n",
       "        vertical-align: middle;\n",
       "    }\n",
       "\n",
       "    .dataframe tbody tr th {\n",
       "        vertical-align: top;\n",
       "    }\n",
       "\n",
       "    .dataframe thead th {\n",
       "        text-align: right;\n",
       "    }\n",
       "</style>\n",
       "<table border=\"1\" class=\"dataframe\">\n",
       "  <thead>\n",
       "    <tr style=\"text-align: right;\">\n",
       "      <th></th>\n",
       "      <th>text</th>\n",
       "      <th>emdType</th>\n",
       "      <th>emdTypePred</th>\n",
       "    </tr>\n",
       "  </thead>\n",
       "  <tbody>\n",
       "    <tr>\n",
       "      <th>70</th>\n",
       "      <td>MPV 870 00040 CONGRESSO NACIONAL ETIQ UETA APR...</td>\n",
       "      <td>O</td>\n",
       "      <td>O</td>\n",
       "    </tr>\n",
       "    <tr>\n",
       "      <th>218</th>\n",
       "      <td>Dê-se , ao artigo 65 da Medida Provisória nº 8...</td>\n",
       "      <td>MOD</td>\n",
       "      <td>MOD</td>\n",
       "    </tr>\n",
       "    <tr>\n",
       "      <th>258</th>\n",
       "      <td>Os Arts . 37 , 38 , 43 e 44 , da Medida Provis...</td>\n",
       "      <td>MOD</td>\n",
       "      <td>MOD</td>\n",
       "    </tr>\n",
       "    <tr>\n",
       "      <th>33</th>\n",
       "      <td>Acrescente-se ao art . 37 da Medida Provisória...</td>\n",
       "      <td>ADD</td>\n",
       "      <td>SUP</td>\n",
       "    </tr>\n",
       "    <tr>\n",
       "      <th>42</th>\n",
       "      <td>MPV 870 00024 COMISSÃO MISTA DA MEDIDA PROVISÓ...</td>\n",
       "      <td>O</td>\n",
       "      <td>O</td>\n",
       "    </tr>\n",
       "  </tbody>\n",
       "</table>\n",
       "</div>"
      ],
      "text/plain": [
       "                                                  text emdType emdTypePred\n",
       "70   MPV 870 00040 CONGRESSO NACIONAL ETIQ UETA APR...       O           O\n",
       "218  Dê-se , ao artigo 65 da Medida Provisória nº 8...     MOD         MOD\n",
       "258  Os Arts . 37 , 38 , 43 e 44 , da Medida Provis...     MOD         MOD\n",
       "33   Acrescente-se ao art . 37 da Medida Provisória...     ADD         SUP\n",
       "42   MPV 870 00024 COMISSÃO MISTA DA MEDIDA PROVISÓ...       O           O"
      ]
     },
     "execution_count": 24,
     "metadata": {},
     "output_type": "execute_result"
    }
   ],
   "source": [
    "addDF = emendas.copy()\n",
    "addDF = addDF.iloc[y_test.index]\n",
    "addDF['emdTypePred'] = y_pred\n",
    "addDF.head()"
   ]
  },
  {
   "cell_type": "code",
   "execution_count": 29,
   "metadata": {},
   "outputs": [],
   "source": [
    "addDF.loc[addDF['emdType'] == \"ADD\"].to_csv('./outputs/emendasAddPred.csv')"
   ]
  },
  {
   "cell_type": "code",
   "execution_count": 25,
   "metadata": {},
   "outputs": [],
   "source": [
    "addDF.to_csvaddDF.to_csv('./outputs/emdendasPred.csv')"
   ]
  },
  {
   "cell_type": "code",
   "execution_count": 17,
   "metadata": {},
   "outputs": [
    {
     "data": {
      "text/plain": [
       "O      127\n",
       "MOD     72\n",
       "SUP     50\n",
       "ADD     23\n",
       "Name: emdType, dtype: int64"
      ]
     },
     "execution_count": 17,
     "metadata": {},
     "output_type": "execute_result"
    }
   ],
   "source": [
    "y_train.value_counts()"
   ]
  },
  {
   "cell_type": "code",
   "execution_count": null,
   "metadata": {},
   "outputs": [],
   "source": []
  }
 ],
 "metadata": {
  "kernelspec": {
   "display_name": "Python 3",
   "language": "python",
   "name": "python3"
  },
  "language_info": {
   "codemirror_mode": {
    "name": "ipython",
    "version": 3
   },
   "file_extension": ".py",
   "mimetype": "text/x-python",
   "name": "python",
   "nbconvert_exporter": "python",
   "pygments_lexer": "ipython3",
   "version": "3.6.6"
  }
 },
 "nbformat": 4,
 "nbformat_minor": 2
}
